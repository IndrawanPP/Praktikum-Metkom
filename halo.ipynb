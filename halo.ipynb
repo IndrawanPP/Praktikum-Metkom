{
 "cells": [
  {
   "cell_type": "code",
   "execution_count": 1,
   "id": "e9eeac3a",
   "metadata": {},
   "outputs": [
    {
     "name": "stdout",
     "output_type": "stream",
     "text": [
      "Hello World\n"
     ]
    }
   ],
   "source": [
    "print(\"Hello World\")"
   ]
  },
  {
   "cell_type": "markdown",
   "id": "3dbf5e1c",
   "metadata": {},
   "source": [
    "# Indrawan Putra Perdana"
   ]
  },
  {
   "cell_type": "markdown",
   "id": "61a58f78",
   "metadata": {},
   "source": [
    "## 20/462140/PA/20112"
   ]
  },
  {
   "cell_type": "markdown",
   "id": "c1a1a556",
   "metadata": {},
   "source": [
    "### Geofisika 2020"
   ]
  },
  {
   "cell_type": "code",
   "execution_count": 2,
   "id": "4481c308",
   "metadata": {},
   "outputs": [],
   "source": [
    "#|========================================|\n",
    "#                                         |\n",
    "#              Program halo.py            |\n",
    "# by indrawan.putraperdana@mail.ugm.ac.id |\n",
    "#                                         |\n",
    "#|========================================|"
   ]
  },
  {
   "cell_type": "code",
   "execution_count": null,
   "id": "5f2b7b2e",
   "metadata": {},
   "outputs": [],
   "source": []
  }
 ],
 "metadata": {
  "kernelspec": {
   "display_name": "Python 3",
   "language": "python",
   "name": "python3"
  },
  "language_info": {
   "codemirror_mode": {
    "name": "ipython",
    "version": 3
   },
   "file_extension": ".py",
   "mimetype": "text/x-python",
   "name": "python",
   "nbconvert_exporter": "python",
   "pygments_lexer": "ipython3",
   "version": "3.7.4"
  }
 },
 "nbformat": 4,
 "nbformat_minor": 5
}
